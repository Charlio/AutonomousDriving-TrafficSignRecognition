{
 "cells": [
  {
   "cell_type": "markdown",
   "metadata": {},
   "source": [
    "# Self-Driving Car Engineer Nanodegree\n",
    "\n",
    "## Deep Learning\n",
    "\n",
    "## Project: Build a Traffic Sign Recognition Classifier\n",
    "\n",
    "In this notebook, a template is provided for you to implement your functionality in stages, which is required to successfully complete this project. If additional code is required that cannot be included in the notebook, be sure that the Python code is successfully imported and included in your submission if necessary. \n",
    "\n",
    "> **Note**: Once you have completed all of the code implementations, you need to finalize your work by exporting the iPython Notebook as an HTML document. Before exporting the notebook to html, all of the code cells need to have been run so that reviewers can see the final implementation and output. You can then export the notebook by using the menu above and navigating to  \\n\",\n",
    "    \"**File -> Download as -> HTML (.html)**. Include the finished document along with this notebook as your submission. \n",
    "\n",
    "In addition to implementing code, there is a writeup to complete. The writeup should be completed in a separate file, which can be either a markdown file or a pdf document. There is a [write up template](https://github.com/udacity/CarND-Traffic-Sign-Classifier-Project/blob/master/writeup_template.md) that can be used to guide the writing process. Completing the code template and writeup template will cover all of the [rubric points](https://review.udacity.com/#!/rubrics/481/view) for this project.\n",
    "\n",
    "The [rubric](https://review.udacity.com/#!/rubrics/481/view) contains \"Stand Out Suggestions\" for enhancing the project beyond the minimum requirements. The stand out suggestions are optional. If you decide to pursue the \"stand out suggestions\", you can include the code in this Ipython notebook and also discuss the results in the writeup file.\n",
    "\n",
    "\n",
    ">**Note:** Code and Markdown cells can be executed using the **Shift + Enter** keyboard shortcut. In addition, Markdown cells can be edited by typically double-clicking the cell to enter edit mode."
   ]
  },
  {
   "cell_type": "markdown",
   "metadata": {},
   "source": [
    "---\n",
    "## Step 0: Load The Data"
   ]
  },
  {
   "cell_type": "code",
   "execution_count": 1,
   "metadata": {
    "collapsed": true
   },
   "outputs": [],
   "source": [
    "# Load pickled data\n",
    "import pickle\n",
    "\n",
    "# TODO: Fill this in based on where you saved the training and testing data\n",
    "\n",
    "training_file = \"traffic-signs-data/train.p\"\n",
    "validation_file= \"traffic-signs-data/valid.p\"\n",
    "testing_file = \"traffic-signs-data/test.p\"\n",
    "\n",
    "with open(training_file, mode='rb') as f:\n",
    "    train = pickle.load(f)\n",
    "with open(validation_file, mode='rb') as f:\n",
    "    valid = pickle.load(f)\n",
    "with open(testing_file, mode='rb') as f:\n",
    "    test = pickle.load(f)\n",
    "    \n",
    "X_train, y_train = train['features'], train['labels']\n",
    "X_valid, y_valid = valid['features'], valid['labels']\n",
    "X_test, y_test = test['features'], test['labels']"
   ]
  },
  {
   "cell_type": "markdown",
   "metadata": {},
   "source": [
    "---\n",
    "\n",
    "## Step 1: Dataset Summary & Exploration\n",
    "\n",
    "The pickled data is a dictionary with 4 key/value pairs:\n",
    "\n",
    "- `'features'` is a 4D array containing raw pixel data of the traffic sign images, (num examples, width, height, channels).\n",
    "- `'labels'` is a 1D array containing the label/class id of the traffic sign. The file `signnames.csv` contains id -> name mappings for each id.\n",
    "- `'sizes'` is a list containing tuples, (width, height) representing the original width and height the image.\n",
    "- `'coords'` is a list containing tuples, (x1, y1, x2, y2) representing coordinates of a bounding box around the sign in the image. **THESE COORDINATES ASSUME THE ORIGINAL IMAGE. THE PICKLED DATA CONTAINS RESIZED VERSIONS (32 by 32) OF THESE IMAGES**\n",
    "\n",
    "Complete the basic data summary below. Use python, numpy and/or pandas methods to calculate the data summary rather than hard coding the results. For example, the [pandas shape method](http://pandas.pydata.org/pandas-docs/stable/generated/pandas.DataFrame.shape.html) might be useful for calculating some of the summary results. "
   ]
  },
  {
   "cell_type": "markdown",
   "metadata": {},
   "source": [
    "### Provide a Basic Summary of the Data Set Using Python, Numpy and/or Pandas"
   ]
  },
  {
   "cell_type": "code",
   "execution_count": 2,
   "metadata": {},
   "outputs": [
    {
     "name": "stdout",
     "output_type": "stream",
     "text": [
      "Number of training examples = 34799\n",
      "Number of validating examples = 4410\n",
      "Number of testing examples = 12630\n",
      "Image data shape = (32, 32, 3)\n",
      "Number of classes = 43\n"
     ]
    }
   ],
   "source": [
    "### Replace each question mark with the appropriate value. \n",
    "### Use python, pandas or numpy methods rather than hard coding the results\n",
    "import numpy as np\n",
    "\n",
    "# TODO: Number of training examples\n",
    "n_train = X_train.shape[0]\n",
    "\n",
    "# TODO: Number of validation examples\n",
    "n_validation = X_valid.shape[0]\n",
    "\n",
    "# TODO: Number of testing examples.\n",
    "n_test = X_test.shape[0]\n",
    "\n",
    "# TODO: What's the shape of an traffic sign image?\n",
    "image_shape = X_train[0].shape\n",
    "\n",
    "# TODO: How many unique classes/labels there are in the dataset.\n",
    "n_classes = np.unique(y_test).shape[0]\n",
    "\n",
    "print(\"Number of training examples =\", n_train)\n",
    "print(\"Number of validating examples =\", n_validation)\n",
    "print(\"Number of testing examples =\", n_test)\n",
    "print(\"Image data shape =\", image_shape)\n",
    "print(\"Number of classes =\", n_classes)"
   ]
  },
  {
   "cell_type": "markdown",
   "metadata": {},
   "source": [
    "### Include an exploratory visualization of the dataset"
   ]
  },
  {
   "cell_type": "markdown",
   "metadata": {},
   "source": [
    "Visualize the German Traffic Signs Dataset using the pickled file(s). This is open ended, suggestions include: plotting traffic sign images, plotting the count of each sign, etc. \n",
    "\n",
    "The [Matplotlib](http://matplotlib.org/) [examples](http://matplotlib.org/examples/index.html) and [gallery](http://matplotlib.org/gallery.html) pages are a great resource for doing visualizations in Python.\n",
    "\n",
    "**NOTE:** It's recommended you start with something simple first. If you wish to do more, come back to it after you've completed the rest of the sections. It can be interesting to look at the distribution of classes in the training, validation and test set. Is the distribution the same? Are there more examples of some classes than others?"
   ]
  },
  {
   "cell_type": "code",
   "execution_count": 3,
   "metadata": {
    "collapsed": true
   },
   "outputs": [],
   "source": [
    "### Data exploration visualization code goes here.\n",
    "### Feel free to use as many code cells as needed.\n",
    "import matplotlib.pyplot as plt\n",
    "# Visualizations will be shown in the notebook.\n",
    "%matplotlib inline"
   ]
  },
  {
   "cell_type": "code",
   "execution_count": 4,
   "metadata": {},
   "outputs": [
    {
     "name": "stdout",
     "output_type": "stream",
     "text": [
      "28\n"
     ]
    },
    {
     "data": {
      "image/png": "iVBORw0KGgoAAAANSUhEUgAAAFsAAABZCAYAAABR/liSAAAABHNCSVQICAgIfAhkiAAAAAlwSFlz\nAAALEgAACxIB0t1+/AAAADl0RVh0U29mdHdhcmUAbWF0cGxvdGxpYiB2ZXJzaW9uIDIuMS4wLCBo\ndHRwOi8vbWF0cGxvdGxpYi5vcmcvpW3flQAAER1JREFUeJztnEmMXFlWhr/zphgzI3LO9GyX7bKL\nGlzV1c0ogdTNIDYNCxC9QCAhNZuWQGJBixXLXgBbpEK0xAIJIdESvSiGpgUS3UC1ax7a2FXttF2e\n0s45IzKGN1wW57xIy12uDDvNs1WOI1kvHXHfvfedOPe/5/zn3CfOOUZSjHiPegJPkoyUXaCMlF2g\njJRdoIyUXaCMlF2gjJRdoOxJ2SLyKyJyXkQ+EpGvP6xJfVZFHjSoEREfuAD8InAVOAt8xTn3w4c3\nvc+WBHu49wvAR865iwAi8nfAl4F7KjsIfBeFIfr76o8sCABO8lYy+G7HEAQ/8AGIQp2yy1IAMucQ\nkTvuBcQj8HXRenn/1meWpiSp3ptk+pln93ueTynS/nu9HgBxkpF3n8/nTvt0LiNJEtI0E3aRvSh7\nP/DxHf+/Cvzk3Y1E5KvAVwHCMODE8SNkcUKa6AOHpsTE06t4HmKKjJMEACc+jelJAA7O6rW/vQlA\nJ42JwlDbuUj7CEtMjdUAqPjab5zGALTabdY2NwBYbXUBiHy9vz42zrGDswBc/PAiAEvrrcEP1+v3\nAUgze7gso9fvcePG0lAK24uyP+mX/DFMcs69ArwCUK1WnO95hGFEO9UHje0Ol7pBF4GogpyY0tOM\nfqx/i6fDhpEqCK/ETKMJQORUC2utFhsbqtBWqD+AZ7uTiEcQ6L2Vko6ZmPYyPOK+jlOKdA5B4ONb\n+7I9cbcbk3fq+8E9VPHjshdlXwUO3vH/A8D1T7vBOUc/SXFZhme/S2Ba6NvSjuMUZ5aUpvnS16UK\nO0u/XCrr/X5EuaHWPj+3D4Bfmp3jwofvAPCDC2qh/UQfNQp8dgxT/+r1te8gidnqtHWuviqwVIoI\nI/3BQqd9bLENQLcXI54MYGY32Ys3chY4ISJHRSQCfgv49h76+8zLA1u2cy4Rka8B/wL4wDedcx98\n+k2QpimRL4MNMcdSQwlt5t1xg10Tw8utllpVHGqjqAzdvvbx7M/8MgBfOvU0pX/SAdY31FIvLt0G\noLXd2cFeW02ewY8kffodW1WJju0HPmL7iS0qvFD/X0L3GE+Gs9m9wAjOuVeBV/fSx5Mke1L2/Yrn\nCbVKSNkT+uY/bfXUyjwD0kQ8PCeD9gC+8xAzq75tTr55HtVqmaynFtpebwFw8fx5Fl97C4Dyurpw\n87U6ADfSmI6NHRjY5oZZDiPq1aqOY65fp9vD9lhsMe1YuO8jaTbs/jgK14uUQi1bgJL44HvEqEXH\n5nH0zTPwA498exczOd9lZIavXVsJJfOtAz8gNJu5/O4PAFi/fYWlN/TvoKF+88SBGQBa9To9M00/\nx38bO4v7JImunEAMx11KYn5/uWReSWKuqYPAT4c17GKVnTrHeqfHWL0yiMa2e/pwuTsWiYdv7qCY\n+yUwiPp6sbbvm1LipI8XjAGQLF0FYPWH75Kuq5/tUtvMpsYBmKjXaNsGaS71wI9OM0e3q9/lbqHv\n+eQ44d0Roebtfd9nWN9vBCMFSsEwIoR+SBBEVCoWSGzqUu5ZFJekGYYQhF5uQQlZzmPkVmbfOaBi\nfEmwvgxAe2UVcmjo6KaJWXqtNoNv8+mahYvZXBCEg4DKmfVGYYB5gcSxzllkxyW9H3MdWXaBUqhl\n55Jm2QD3AiOKekZMpWlGYptmaL6W7/mkLkd1C+ENJv0wYNwQP7mmvJg4j/qRw9qgZ6H1+pr2OTHO\nWGAbnfW43ekA0BEhzexTowfSLCW1KCs0qw9y5tH1ieOMT6CEPlEKVbZDuY04yYh84yosGmv38kYO\nZ4odEKzCgEZ1dp0Y1w3v0NQspVWNDturBhUHT3Ds538OgNaP3gXg8hvKlWSrm4zPKHE1bt5Fv2uk\nWJoCkc1Lld5NHb4BT1RRPqbs2cyymCTOjWB3GcFIgVIwjDgcjixNCcKSTsAsPCfw0zuY+dyh8jwP\nzNf1jKdo1BsATEpKfE1dPkrKYTdf/DxTZz4HQBhpf9cXlf2LNzeoNdRVrEc6h5vsbIritH8/1NGj\nSMA497K1rxv120dwQ3vZI8suVArfIAVHt9/Hc3laSzFvYNmDBNaOOOdwOSFhm1t9TC1bVm7RXzOs\nPnACgPlTzxA2NWKsHjkOwMwRpd6X3jpPuKUbYqOuuGxGTCdO6fd7NqZv8/LIjJLczozHsdRZqxPT\nanXJ0uE2yJFlFyiFBzWeeCRpSmaWnLt+vjF8SeYGFpB/59JskGQtlysANGxlxFevEvhq7fMvKE5P\nHT5OWFb8DucPAbBw+gUAti9epbOxDsBYRa1/0vrc3F4nMzaxnOc1Rdg2BrBrWZxu19Tm+5QCb+hM\nTeEwEnhCnAkl2yDFIkfPFBt5HmXLL+YPEWcOz/iLSaNKo9s3AOitbdI4ehqAhZc+D0DYqOFyerai\nLmL9yCkAmsc+oPuW5jhKHYWFuZpumLfb2+Tha2BQEScJWQ555ntnBnSVUpmg1ykkLTaS+5RiLVsg\nEYWMfqxLM7srMkzSjG1Lc4lFbJkTGk0NRA5VrVzh2iIAflRh5gW16MYhjRr9AGLr49LlywDcvK2b\naHX/YcKP1A10W8qbTFenAZgZr7Nm1uvn5hp4g3KLLNA59rQJXhDQbDYtw767jCy7QCme9QtCXJBR\nDvMkqlp2zvD1XDpIGuS2EIY+B6Y1CTBrLJ7b2AKgcfIM+868qK3LmtIic/RaGsK/fvbfALiyofj8\npVPHaR5WN/DmexcAKHUV1/eNN8j6ugnmhTlZnJKTfDmnnhkxk6UJsQzLjDwiPzvwhNA2ony5ljq2\n4ycZzh4qjyabjUkOVpWX4IqSTV5JN8rZ517Gm1CvYjvV9V31GWxqTYOfLYOAZVemPrNf51IxONlU\n72RibB9MavvN3g5fcrfnn8OKAEmcMGy95AhGCpRis+viqPqObuLY2lZLtiov/DBnARN6xqQllmWf\nm5yk2VbrSyxv2Dz+HACtcolXv/ddAI6deh6AQ7WA75/9HwDefftNAG4sK+xcnD/E6Ql1OyfHFD5Y\nWgEgbHWomH++kRdRijfgb6LAYMTK45SJHHEjj6UUbNlCPfDYjlM6liWnlFu0Xn1PBtFMzQKY/aUQ\n/8otAFxkWP38SwD0x3ziK5oO27bkwWutFUqG+yenFYPba7oiFuZnmZxW/I8yrYRNN/XK5jpRTa0+\n30sECCyJUTKu25FHvR6lQAb1Lbs+/24NROSgiPy7iJwTkQ9E5A/s80kR+Y6IfGjXiaFGfIJlGMtO\ngD9yzr0pImPAGyLyHeB3ge86575hRzy+Dvzxp3aUOW61Y7qplgGo5FVJO1VQgfHGh6bU3Wu21onb\nytRNnNIAZvrkMwB8uLLI4nUN3S+tqQdx5sWX+cLxowCc/69/BeD9y7oy6rOzPPc5xfbKoQMAfGy1\n3jfPX6bS0YrYuSldQak4Nizt5iRPh+V1gBGBVx5w7LvJrsp2zt0AbtjfWyJyDi2E/zLwC9bsb4D/\nYBdlZxls9x0iypEARFYbkiaWDReh0bTC95q5ex9fw6sqHEw/r4pa6+mm9v5777B+6RIAE4e1/Xi1\nggv00aSkP1y5UrJxUlx1Sts9pQTU1LUfAbB++Qbxlm6k47O6ULfrdTY65gZaNj73BLMUJHdJh5D7\nwmwROQK8CLwGzNkPgXPuhojM3uOewcmDIHgk+eXHRoZ+ehGpA/8A/KFzblOGpLruPnkQRT5plg0q\noPp5QaVd/ajC4TkNUibM3aPdYfxZdfUmTz0NgFfXzeqnX3iB1ZVV/axqDF+9CVbtlNjSP3BQqdYw\n67N4TWGnflRhpHZU+6zvf4fli1rPHxhsVRvlwWaZA5/tvQS+Azd8dn0o109EQlTRf+uc+5Z9vCQi\nC/b9AnBrqBGfYNnVskVN+K+Bc865v7jjq28DvwN8w67/OMyAQoZz2Y6VZNngG4DaWJMDJQvlb17R\na22MuefPANDcr9YYGFZ22+vsO3IMgMyzBO7Hl4m6yuR1MrWnQ8c1ZeYlHRbPvaFjGw/yE3PzAEwc\nP8HalWsAxLd1TyhXDzBW1rE6Rvflnp7nBbh0+KTvMDDys8BvA++JyNv22Z+gSv57Efk94ArwG0ON\n+ATLMN7I97h3TPrF+xrNgcscgmj1JxBYAje3lv0TTZobisHOQvrG82eYOf2stisps5flLmO5ztGn\nNeV1+LBa+FRzgu01RbUr19Xa5w6fBODYVINjK3qULvb1u1JTPY/g5GnGz50DYOWqBkpha4qpuobw\n2xaIbVhBfhz3abfbg+Miu0mh7oHvCY1ySCdx9F1eg63XyTw5EIX413UJS02VMPvcy9RmFBawumnP\n0mnlsMTCrH7XmFCXLixXcBYULsypk7Rg5yjLjQYH7ShfTu+Kbdf9A8eYPKFws3ldf6xsdZ1afQGA\nmrmPW5aT7PX69JMR6/dYSqGWnTlHN8vo9BO6VmvRsGTr3IRaXm1libStPEZlxnjq5SWu/Pd/AiB2\nJjE/Xp05wJLBy3YyzAtCPKtamhRtH99S6FheWRm4ckF+qjgvE06E8qRacWjQsbW+RmlaV9hERT9b\n9XWcVhoT93q4bLh6v5FlFyiFV7H2UrS43LiRqlnqWKKbT7JyG7Gk6/aSsniL//wtyPkHuzordyiN\njVOxlFnJVkLUGCeyjTc/B5/GGnInrRadVd2AY1tBg2orCaCjieHusm6QSS/FW9b2pQXdE0q2EnwR\nhj9M/UjSYkbkWM4x50gSO8uelSKkrtCSp8U8t3OOPawpn9G0srKx+XmUK4NNO8XQXrxFZmVkvhXg\n1Ca1XG18rMn4uJJM7SX1qZcvfaT331qB/HRBfnIBobtu3lFdN8iKJRPGx+pUyxWCYDgiagQjBUrh\n2fXA9/BkJ3LcaOtmsz6ph/xLx07hrJAxp2EliNg/oZbZqOkm1VrW7Pni62fpL5vfbOk0l6Z4WU5g\n5BVOeq1Wx6nP61jThzTLfvClnwJgc+0mG7e1355BTF98MitFTgzy4q76lVmW0U3TwSHU3WRk2QVK\nsZYt4Psege8PAookUWxdWddAZsNltK2soeepJT115BT7DOM/fucsAFuX7fxMp4uXk/l3MJF5rUfu\nlvmxvRygs83Wqp0qu6bcy/gxjS5nTp1E5rWq6tqNSwB00EOyAKs2xy1bjb1+zHYnHhyI3U1Gll2g\nFM/miweeIGapfp5RccaoZQmBVUsdWDgCwDORsPH69wFoL2kYbc4JggyyMr4d8o+qVcQOJzk7Cex3\nlZ+m08GzOsB0TfF5/X2tskpbLcZParVrtaYh/crm8uDlLy3rIzZLDqKIhviDE8m7ScEwIoSRjxf7\nA/93J4udn7ULWJhVGvVE3Vy0D87SNSX7Fnmm5m/7jUlmTmvJ8IFnlawaW5jFt3RYYkfz4tu6iW5+\ndIGV/z2v/S4pnGTWZmvxAp6nKpl+Rl1LWShzyY5p5zXlnr2mIYpKpH5/kD/dTUYwUqA88Hv9Hmgw\nkdtAG1gubNAHl2mGn+dh59zMbo0KVTaAiLzunHu50EEfQP4/5jmCkQJlpOwC5VEo+5VHMOaDyEOf\nZ+GY/STLCEYKlMKU/Ti/a/tTKnX/VESuicjb9u9X9zROETDyuL9r2yq6Fu6s1AV+DfhNoOWc+7OH\nMU5Rlj1417Zzrg/k79p+LMQ5d8M596b9vQXklboPVYpS9ie9a/uhP8zDkLsqdQG+JiLvisg391rw\nX5Syh3rX9qOWuyt1gb8EngLOoDXqf76X/otS9n2/a7to+aRKXefcknMudfrSqr9C4fCBpShlP9bv\n2r5XpW5eEm3y68D7exmnED77gd61Xazcq1L3KyJyBoW8S8Dv72WQUQRZoIwiyAJlpOwCZaTsAmWk\n7AJlpOwCZaTsAmWk7AJlpOwC5f8ANHq10TrTDvkAAAAASUVORK5CYII=\n",
      "text/plain": [
       "<matplotlib.figure.Figure at 0x7ffb3ddf5080>"
      ]
     },
     "metadata": {},
     "output_type": "display_data"
    }
   ],
   "source": [
    "import random\n",
    "\n",
    "index = random.randint(0, len(X_train))\n",
    "image = X_train[index].squeeze()\n",
    "\n",
    "plt.figure(figsize=(1,1))\n",
    "plt.imshow(image, cmap=\"gray\")\n",
    "print(y_train[index])"
   ]
  },
  {
   "cell_type": "markdown",
   "metadata": {},
   "source": [
    "Classes are not uniformly distributed, however, classes in train, valid, and test have the same distribution:"
   ]
  },
  {
   "cell_type": "code",
   "execution_count": 5,
   "metadata": {},
   "outputs": [
    {
     "data": {
      "image/png": "iVBORw0KGgoAAAANSUhEUgAAAYAAAAD8CAYAAAB+UHOxAAAABHNCSVQICAgIfAhkiAAAAAlwSFlz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\nABARiSgFgIhIRCkAREQi6v8DGlzFgDYnbDgAAAAASUVORK5CYII=\n",
      "text/plain": [
       "<matplotlib.figure.Figure at 0x7ffb3ddea7f0>"
      ]
     },
     "metadata": {},
     "output_type": "display_data"
    },
    {
     "data": {
      "text/plain": [
       "(array([ 0,  1,  2,  3,  4,  5,  6,  7,  8,  9, 10, 11, 12, 13, 14, 15, 16,\n",
       "        17, 18, 19, 20, 21, 22, 23, 24, 25, 26, 27, 28, 29, 30, 31, 32, 33,\n",
       "        34, 35, 36, 37, 38, 39, 40, 41, 42], dtype=uint8),\n",
       " array([ 180, 1980, 2010, 1260, 1770, 1650,  360, 1290, 1260, 1320, 1800,\n",
       "        1170, 1890, 1920,  690,  540,  360,  990, 1080,  180,  300,  270,\n",
       "         330,  450,  240, 1350,  540,  210,  480,  240,  390,  690,  210,\n",
       "         599,  360, 1080,  330,  180, 1860,  270,  300,  210,  210]))"
      ]
     },
     "execution_count": 5,
     "metadata": {},
     "output_type": "execute_result"
    }
   ],
   "source": [
    "fig, ax = plt.subplots(nrows=1, ncols=3)\n",
    "ax[0].hist(y_train)\n",
    "ax[1].hist(y_valid)\n",
    "ax[2].hist(y_test)\n",
    "plt.show()\n",
    "np.unique(y_train, return_counts=True)"
   ]
  },
  {
   "cell_type": "markdown",
   "metadata": {},
   "source": [
    "----\n",
    "\n",
    "## Step 2: Design and Test a Model Architecture\n",
    "\n",
    "Design and implement a deep learning model that learns to recognize traffic signs. Train and test your model on the [German Traffic Sign Dataset](http://benchmark.ini.rub.de/?section=gtsrb&subsection=dataset).\n",
    "\n",
    "The LeNet-5 implementation shown in the [classroom](https://classroom.udacity.com/nanodegrees/nd013/parts/fbf77062-5703-404e-b60c-95b78b2f3f9e/modules/6df7ae49-c61c-4bb2-a23e-6527e69209ec/lessons/601ae704-1035-4287-8b11-e2c2716217ad/concepts/d4aca031-508f-4e0b-b493-e7b706120f81) at the end of the CNN lesson is a solid starting point. You'll have to change the number of classes and possibly the preprocessing, but aside from that it's plug and play! \n",
    "\n",
    "With the LeNet-5 solution from the lecture, you should expect a validation set accuracy of about 0.89. To meet specifications, the validation set accuracy will need to be at least 0.93. It is possible to get an even higher accuracy, but 0.93 is the minimum for a successful project submission. \n",
    "\n",
    "There are various aspects to consider when thinking about this problem:\n",
    "\n",
    "- Neural network architecture (is the network over or underfitting?)\n",
    "- Play around preprocessing techniques (normalization, rgb to grayscale, etc)\n",
    "- Number of examples per label (some have more than others).\n",
    "- Generate fake data.\n",
    "\n",
    "Here is an example of a [published baseline model on this problem](http://yann.lecun.com/exdb/publis/pdf/sermanet-ijcnn-11.pdf). It's not required to be familiar with the approach used in the paper but, it's good practice to try to read papers like these."
   ]
  },
  {
   "cell_type": "markdown",
   "metadata": {},
   "source": [
    "### Pre-process the Data Set (normalization, grayscale, etc.)"
   ]
  },
  {
   "cell_type": "markdown",
   "metadata": {},
   "source": [
    "Minimally, the image data should be normalized so that the data has mean zero and equal variance. For image data, `(pixel - 128)/ 128` is a quick way to approximately normalize the data and can be used in this project. \n",
    "\n",
    "Other pre-processing steps are optional. You can try different techniques to see if it improves performance. \n",
    "\n",
    "Use the code cell (or multiple code cells, if necessary) to implement the first step of your project."
   ]
  },
  {
   "cell_type": "code",
   "execution_count": 6,
   "metadata": {
    "collapsed": true
   },
   "outputs": [],
   "source": [
    "### Preprocess the data here. It is required to normalize the data. Other preprocessing steps could include \n",
    "### converting to grayscale, etc.\n",
    "### Feel free to use as many code cells as needed.\n",
    "from sklearn.utils import shuffle\n",
    "\n",
    "is_features_normal = False\n",
    "is_labels_encod = False"
   ]
  },
  {
   "cell_type": "code",
   "execution_count": 7,
   "metadata": {
    "collapsed": true
   },
   "outputs": [],
   "source": [
    "# Convert images to grayscale\n",
    "X_train = np.sum(X_train/3, axis=3, keepdims=True)\n",
    "X_valid= np.sum(X_valid/3, axis=3, keepdims=True)\n",
    "X_test = np.sum(X_test/3, axis=3, keepdims=True)"
   ]
  },
  {
   "cell_type": "code",
   "execution_count": 8,
   "metadata": {
    "collapsed": true
   },
   "outputs": [],
   "source": [
    "# Implement Min-Max scaling for grayscale image data\n",
    "def normalize_grayscale(image_data):\n",
    "    \"\"\"\n",
    "    Normalize the image data with Min-Max scaling to a range of [0.1, 0.9]\n",
    "    :param image_data: The image data to be normalized\n",
    "    :return: Normalized image data\n",
    "    \"\"\"\n",
    "    return (image_data - 128)/128\n",
    "\n",
    "if not is_features_normal:\n",
    "    X_train = normalize_grayscale(X_train)\n",
    "    X_valid = normalize_grayscale(X_valid)\n",
    "    X_test = normalize_grayscale(X_test)\n",
    "    is_features_normal = True"
   ]
  },
  {
   "cell_type": "code",
   "execution_count": 9,
   "metadata": {},
   "outputs": [],
   "source": [
    "import cv2\n",
    "\n",
    "def random_translate(img):\n",
    "    rows,cols,_ = img.shape\n",
    "    px = 2\n",
    "    dx,dy = np.random.randint(-px,px,2)\n",
    "    M = np.float32([[1,0,dx],[0,1,dy]])\n",
    "    dst = cv2.warpAffine(img,M,(cols,rows))\n",
    "    dst = dst[:,:,np.newaxis]\n",
    "    return dst"
   ]
  },
  {
   "cell_type": "code",
   "execution_count": 10,
   "metadata": {},
   "outputs": [],
   "source": [
    "def random_scaling(img):   \n",
    "    rows,cols,_ = img.shape\n",
    "    px = np.random.randint(-2,2)\n",
    "    pts1 = np.float32([[px,px],[rows-px,px],[px,cols-px],[rows-px,cols-px]])\n",
    "    pts2 = np.float32([[0,0],[rows,0],[0,cols],[rows,cols]])\n",
    "    M = cv2.getPerspectiveTransform(pts1,pts2)\n",
    "    dst = cv2.warpPerspective(img,M,(rows,cols))\n",
    "    dst = dst[:,:,np.newaxis]\n",
    "    return dst"
   ]
  },
  {
   "cell_type": "code",
   "execution_count": 11,
   "metadata": {},
   "outputs": [],
   "source": [
    "def random_warp(img):\n",
    "    rows,cols,_ = img.shape\n",
    "    rndx = np.random.rand(3) - 0.5\n",
    "    rndx *= cols * 0.06\n",
    "    rndy = np.random.rand(3) - 0.5\n",
    "    rndy *= rows * 0.06\n",
    "    x1 = cols/4\n",
    "    x2 = 3*cols/4\n",
    "    y1 = rows/4\n",
    "    y2 = 3*rows/4\n",
    "    pts1 = np.float32([[y1,x1],\n",
    "                       [y2,x1],\n",
    "                       [y1,x2]])\n",
    "    pts2 = np.float32([[y1+rndy[0],x1+rndx[0]],\n",
    "                       [y2+rndy[1],x1+rndx[1]],\n",
    "                       [y1+rndy[2],x2+rndx[2]]])\n",
    "    M = cv2.getAffineTransform(pts1,pts2)\n",
    "    dst = cv2.warpAffine(img,M,(cols,rows))\n",
    "    dst = dst[:,:,np.newaxis]\n",
    "    return dst"
   ]
  },
  {
   "cell_type": "code",
   "execution_count": 12,
   "metadata": {},
   "outputs": [],
   "source": [
    "def random_brightness(img):\n",
    "    shifted = img + 1.0\n",
    "    img_max_value = max(shifted.flatten())\n",
    "    max_coef = 2.0/img_max_value\n",
    "    min_coef = max_coef - 0.1\n",
    "    coef = np.random.uniform(min_coef, max_coef)\n",
    "    dst = shifted * coef - 1.0\n",
    "    return dst"
   ]
  },
  {
   "cell_type": "code",
   "execution_count": 13,
   "metadata": {},
   "outputs": [
    {
     "name": "stdout",
     "output_type": "stream",
     "text": [
      "X, y shapes: (34799, 32, 32, 1) (34799,)\n",
      "0 : |----|----|----|----|----|----|----|----|----|----|----|----|-\n",
      "1 : \n",
      "2 : \n",
      "3 : \n",
      "4 : \n",
      "5 : \n",
      "6 : |----|----|----|----|----|----|----|----|---\n",
      "7 : \n",
      "8 : \n",
      "9 : \n",
      "10 : \n",
      "11 : \n",
      "12 : \n",
      "13 : \n",
      "14 : |----|----|\n",
      "15 : |----|----|----|----|----|\n",
      "16 : |----|----|----|----|----|----|----|----|---\n",
      "17 : \n",
      "18 : \n",
      "19 : |----|----|----|----|----|----|----|----|----|----|----|----|-\n",
      "20 : |----|----|----|----|----|----|----|----|----|----\n",
      "21 : |----|----|----|----|----|----|----|----|----|----|--\n",
      "22 : |----|----|----|----|----|----|----|----|----|-\n",
      "23 : |----|----|----|----|----|----|----\n",
      "24 : |----|----|----|----|----|----|----|----|----|----|----|\n",
      "25 : \n",
      "26 : |----|----|----|----|----|\n",
      "27 : |----|----|----|----|----|----|----|----|----|----|----|---\n",
      "28 : |----|----|----|----|----|----|-\n",
      "29 : |----|----|----|----|----|----|----|----|----|----|----|\n",
      "30 : |----|----|----|----|----|----|----|----|\n",
      "31 : |----|----|\n",
      "32 : |----|----|----|----|----|----|----|----|----|----|----|---\n",
      "33 : |----|----|----|----|\n",
      "34 : |----|----|----|----|----|----|----|----|---\n",
      "35 : \n",
      "36 : |----|----|----|----|----|----|----|----|----|-\n",
      "37 : |----|----|----|----|----|----|----|----|----|----|----|----|-\n",
      "38 : \n",
      "39 : |----|----|----|----|----|----|----|----|----|----|--\n",
      "40 : |----|----|----|----|----|----|----|----|----|----\n",
      "41 : |----|----|----|----|----|----|----|----|----|----|----|---\n",
      "42 : |----|----|----|----|----|----|----|----|----|----|----|---\n",
      "X, y shapes: (46480, 32, 32, 1) (46480,)\n"
     ]
    }
   ],
   "source": [
    "print('X, y shapes:', X_train.shape, y_train.shape)\n",
    "n_classes = len(np.unique(y_train))\n",
    "\n",
    "input_indices = []\n",
    "output_indices = []\n",
    "\n",
    "for class_n in range(n_classes):\n",
    "    print(class_n, ': ', end='')\n",
    "    class_indices = np.where(y_train == class_n)\n",
    "    n_samples = len(class_indices[0])\n",
    "    if n_samples < 800:\n",
    "        for i in range(800 - n_samples):\n",
    "            input_indices.append(class_indices[0][i%n_samples])\n",
    "            output_indices.append(X_train.shape[0])\n",
    "            new_img = X_train[class_indices[0][i % n_samples]]\n",
    "            new_img = random_translate(random_scaling(random_warp(random_brightness(new_img))))\n",
    "            X_train = np.concatenate((X_train, [new_img]), axis=0)\n",
    "            y_train = np.concatenate((y_train, [class_n]), axis=0)\n",
    "            if i % 50 == 0:\n",
    "                print('|', end='')\n",
    "            elif i % 10 == 0:\n",
    "                print('-',end='')\n",
    "    print('')\n",
    "            \n",
    "print('X, y shapes:', X_train.shape, y_train.shape)"
   ]
  },
  {
   "cell_type": "code",
   "execution_count": 14,
   "metadata": {},
   "outputs": [
    {
     "name": "stdout",
     "output_type": "stream",
     "text": [
      "Labels One-Hot Encoded\n"
     ]
    }
   ],
   "source": [
    "from sklearn.preprocessing import LabelBinarizer\n",
    "\n",
    "if not is_labels_encod:\n",
    "    # Turn labels into numbers and apply One-Hot Encoding\n",
    "    encoder = LabelBinarizer()\n",
    "    encoder.fit(y_train)\n",
    "    y_train = encoder.transform(y_train)\n",
    "    y_valid = encoder.transform(y_valid)\n",
    "    y_test = encoder.transform(y_test)\n",
    "\n",
    "    # Change to float32, so it can be multiplied against the features in TensorFlow, which are float32\n",
    "    y_train = y_train.astype(np.float32)\n",
    "    y_valid = y_valid.astype(np.float32)\n",
    "    y_test = y_test.astype(np.float32)\n",
    "    is_labels_encod = True\n",
    "\n",
    "print('Labels One-Hot Encoded')"
   ]
  },
  {
   "cell_type": "markdown",
   "metadata": {},
   "source": [
    "### Model Architecture"
   ]
  },
  {
   "cell_type": "code",
<<<<<<< HEAD
   "execution_count": 15,
   "metadata": {},
=======
   "execution_count": 10,
   "metadata": {
    "collapsed": true
   },
>>>>>>> 388e4973c26239810382add9aca7c713d25eac3f
   "outputs": [],
   "source": [
    "### Define your architecture here.\n",
    "### Feel free to use as many code cells as needed.\n",
    "from tensorflow.contrib.layers import flatten\n",
    "\n",
    "def LeNet(x):    \n",
    "    # Arguments used for tf.truncated_normal, randomly defines variables for the weights and biases for each layer\n",
    "    mu = 0\n",
    "    sigma = 0.1\n",
    "    \n",
    "    # Layer 1: Convolutional. Input = 32x32x1. Output = 28x28x6.\n",
    "    conv1_W = tf.Variable(tf.truncated_normal(shape=(5, 5, 1, 6), mean = mu, stddev = sigma))\n",
    "    conv1_b = tf.Variable(tf.zeros(6))\n",
    "    conv1   = tf.nn.conv2d(x, conv1_W, strides=[1, 1, 1, 1], padding='VALID') + conv1_b\n",
    "\n",
    "    # Activation.\n",
    "    conv1 = tf.nn.relu(conv1)\n",
    "\n",
    "    # Pooling. Input = 28x28x6. Output = 14x14x6.\n",
    "    conv1 = tf.nn.max_pool(conv1, ksize=[1, 2, 2, 1], strides=[1, 2, 2, 1], padding='VALID')\n",
    "\n",
    "    #Layer 2: Convolutional. Output = 10x10x16.\n",
    "    conv2_W = tf.Variable(tf.truncated_normal(shape=(5, 5, 6, 16), mean = mu, stddev = sigma))\n",
    "    conv2_b = tf.Variable(tf.zeros(16))\n",
    "    conv2   = tf.nn.conv2d(conv1, conv2_W, strides=[1, 1, 1, 1], padding='VALID') + conv2_b\n",
    "    \n",
    "    # Activation.\n",
    "    conv2 = tf.nn.relu(conv2)\n",
    "\n",
    "    # Pooling. Input = 10x10x16. Output = 5x5x16.\n",
    "    conv2 = tf.nn.max_pool(conv2, ksize=[1, 2, 2, 1], strides=[1, 2, 2, 1], padding='VALID')\n",
    "\n",
    "    # Flatten. Input = 5x5x16. Output = 400.\n",
    "    fc0   = flatten(conv2)\n",
    "    \n",
    "    # Layer 3: Fully Connected. Input = 400. Output = 120.\n",
    "    fc1_W = tf.Variable(tf.truncated_normal(shape=(400, 120), mean = mu, stddev = sigma))\n",
    "    fc1_b = tf.Variable(tf.zeros(120))\n",
    "    fc1   = tf.matmul(fc0, fc1_W) + fc1_b\n",
    "    \n",
    "    # Activation.\n",
    "    fc1    = tf.nn.relu(fc1)\n",
    "\n",
    "    # Layer 4: Fully Connected. Input = 120. Output = 84.\n",
    "    fc2_W  = tf.Variable(tf.truncated_normal(shape=(120, 84), mean = mu, stddev = sigma))\n",
    "    fc2_b  = tf.Variable(tf.zeros(84))\n",
    "    fc2    = tf.matmul(fc1, fc2_W) + fc2_b\n",
    "    \n",
    "    # Activation.\n",
    "    fc2    = tf.nn.relu(fc2)\n",
    "\n",
    "    # Layer 5: Fully Connected. Input = 84. Output = 43.\n",
    "    fc3_W  = tf.Variable(tf.truncated_normal(shape=(84, 43), mean = mu, stddev = sigma))\n",
    "    fc3_b  = tf.Variable(tf.zeros(43))\n",
    "    logits = tf.matmul(fc2, fc3_W) + fc3_b\n",
    "    \n",
    "    return logits"
   ]
  },
  {
   "cell_type": "markdown",
   "metadata": {},
   "source": [
    "### Train, Validate and Test the Model"
   ]
  },
  {
   "cell_type": "markdown",
   "metadata": {},
   "source": [
    "A validation set can be used to assess how well the model is performing. A low accuracy on the training and validation\n",
    "sets imply underfitting. A high accuracy on the training set but low accuracy on the validation set implies overfitting."
   ]
  },
  {
   "cell_type": "code",
<<<<<<< HEAD
   "execution_count": 16,
   "metadata": {},
=======
   "execution_count": 11,
   "metadata": {
    "collapsed": true
   },
>>>>>>> 388e4973c26239810382add9aca7c713d25eac3f
   "outputs": [],
   "source": [
    "### Train your model here.\n",
    "### Calculate and report the accuracy on the training and validation set.\n",
    "### Once a final model architecture is selected, \n",
    "### the accuracy on the test set should be calculated and reported as well.\n",
    "### Feel free to use as many code cells as needed."
   ]
  },
  {
   "cell_type": "markdown",
   "metadata": {},
   "source": [
    "### Features and Labels\n",
    "\n",
    "`x` is a placeholder for a batch of input images.\n",
    "`y` is a placeholder for a batch of output labels."
   ]
  },
  {
   "cell_type": "code",
<<<<<<< HEAD
   "execution_count": 17,
   "metadata": {},
=======
   "execution_count": 16,
   "metadata": {
    "collapsed": true
   },
>>>>>>> 388e4973c26239810382add9aca7c713d25eac3f
   "outputs": [],
   "source": [
    "import tensorflow as tf\n",
    "EPOCHS = 60\n",
    "BATCH_SIZE = 100\n",
    "\n",
    "x = tf.placeholder(tf.float32, (None, 32, 32, 1))\n",
    "y = tf.placeholder(tf.int32, (None))"
   ]
  },
  {
   "cell_type": "markdown",
   "metadata": {},
   "source": [
    "### Training Pipeline"
   ]
  },
  {
   "cell_type": "code",
<<<<<<< HEAD
   "execution_count": 18,
   "metadata": {},
=======
   "execution_count": 21,
   "metadata": {
    "collapsed": true
   },
>>>>>>> 388e4973c26239810382add9aca7c713d25eac3f
   "outputs": [],
   "source": [
    "rate = 0.0009\n",
    "\n",
    "logits = LeNet(x)\n",
    "cross_entropy = tf.nn.softmax_cross_entropy_with_logits(labels=y, logits=logits)\n",
    "loss_operation = tf.reduce_mean(cross_entropy)\n",
    "optimizer = tf.train.AdamOptimizer(learning_rate = rate)\n",
    "training_operation = optimizer.minimize(loss_operation)"
   ]
  },
  {
   "cell_type": "markdown",
   "metadata": {},
   "source": [
    "### Model Evaluation"
   ]
  },
  {
   "cell_type": "code",
<<<<<<< HEAD
   "execution_count": 19,
   "metadata": {},
=======
   "execution_count": 22,
   "metadata": {
    "collapsed": true
   },
>>>>>>> 388e4973c26239810382add9aca7c713d25eac3f
   "outputs": [],
   "source": [
    "correct_prediction = tf.equal(tf.argmax(logits, 1), tf.argmax(y, 1))\n",
    "accuracy_operation = tf.reduce_mean(tf.cast(correct_prediction, tf.float32))\n",
    "saver = tf.train.Saver()\n",
    "\n",
    "def evaluate(X_data, y_data):\n",
    "    num_examples = len(X_data)\n",
    "    total_accuracy = 0\n",
    "    sess = tf.get_default_session()\n",
    "    for offset in range(0, num_examples, BATCH_SIZE):\n",
    "        batch_x, batch_y = X_data[offset:offset+BATCH_SIZE], y_data[offset:offset+BATCH_SIZE]\n",
    "        accuracy = sess.run(accuracy_operation, feed_dict={x: batch_x, y: batch_y})\n",
    "        total_accuracy += (accuracy * len(batch_x))\n",
    "    return total_accuracy / num_examples"
   ]
  },
  {
   "cell_type": "markdown",
   "metadata": {},
   "source": [
    "### Train the Model"
   ]
  },
  {
   "cell_type": "code",
   "execution_count": 21,
   "metadata": {},
   "outputs": [
    {
     "name": "stdout",
     "output_type": "stream",
     "text": [
      "Training...\n",
      "\n",
      "EPOCH 1 ...\n",
      "Validation Accuracy = 0.787\n",
      "\n",
      "EPOCH 2 ...\n",
      "Validation Accuracy = 0.864\n",
      "\n",
      "EPOCH 3 ...\n",
      "Validation Accuracy = 0.882\n",
      "\n",
      "EPOCH 4 ...\n",
      "Validation Accuracy = 0.889\n",
      "\n",
      "EPOCH 5 ...\n",
      "Validation Accuracy = 0.901\n",
      "\n",
      "EPOCH 6 ...\n",
      "Validation Accuracy = 0.896\n",
      "\n",
      "EPOCH 7 ...\n",
      "Validation Accuracy = 0.914\n",
      "\n",
      "EPOCH 8 ...\n",
      "Validation Accuracy = 0.908\n",
      "\n",
      "EPOCH 9 ...\n",
      "Validation Accuracy = 0.902\n",
      "\n",
      "EPOCH 10 ...\n",
      "Validation Accuracy = 0.909\n",
      "\n",
      "EPOCH 11 ...\n",
      "Validation Accuracy = 0.914\n",
      "\n",
      "EPOCH 12 ...\n",
      "Validation Accuracy = 0.913\n",
      "\n",
      "EPOCH 13 ...\n",
      "Validation Accuracy = 0.919\n",
      "\n",
      "EPOCH 14 ...\n",
      "Validation Accuracy = 0.927\n",
      "\n",
      "EPOCH 15 ...\n",
      "Validation Accuracy = 0.907\n",
      "\n",
      "EPOCH 16 ...\n",
      "Validation Accuracy = 0.916\n",
      "\n",
      "EPOCH 17 ...\n",
      "Validation Accuracy = 0.920\n",
      "\n",
      "EPOCH 18 ...\n",
      "Validation Accuracy = 0.923\n",
      "\n",
      "EPOCH 19 ...\n",
      "Validation Accuracy = 0.921\n",
      "\n",
      "EPOCH 20 ...\n",
      "Validation Accuracy = 0.924\n",
      "\n",
      "EPOCH 21 ...\n",
      "Validation Accuracy = 0.935\n",
      "\n",
      "EPOCH 22 ...\n",
      "Validation Accuracy = 0.917\n",
      "\n",
      "EPOCH 23 ...\n",
      "Validation Accuracy = 0.936\n",
      "\n",
      "EPOCH 24 ...\n",
      "Validation Accuracy = 0.906\n",
      "\n",
      "EPOCH 25 ...\n",
      "Validation Accuracy = 0.933\n",
      "\n",
      "EPOCH 26 ...\n",
      "Validation Accuracy = 0.936\n",
      "\n",
      "EPOCH 27 ...\n",
      "Validation Accuracy = 0.930\n",
      "\n",
      "EPOCH 28 ...\n",
      "Validation Accuracy = 0.932\n",
      "\n",
      "EPOCH 29 ...\n",
      "Validation Accuracy = 0.936\n",
      "\n",
      "EPOCH 30 ...\n",
      "Validation Accuracy = 0.935\n",
      "\n",
      "EPOCH 31 ...\n",
      "Validation Accuracy = 0.916\n",
      "\n",
      "EPOCH 32 ...\n",
      "Validation Accuracy = 0.923\n",
      "\n",
      "EPOCH 33 ...\n",
      "Validation Accuracy = 0.925\n",
      "\n",
      "EPOCH 34 ...\n",
      "Validation Accuracy = 0.938\n",
      "\n",
      "EPOCH 35 ...\n",
      "Validation Accuracy = 0.927\n",
      "\n",
      "EPOCH 36 ...\n",
      "Validation Accuracy = 0.932\n",
      "\n",
      "EPOCH 37 ...\n",
      "Validation Accuracy = 0.933\n",
      "\n",
      "EPOCH 38 ...\n",
      "Validation Accuracy = 0.940\n",
      "\n",
      "EPOCH 39 ...\n",
      "Validation Accuracy = 0.941\n",
      "\n",
      "EPOCH 40 ...\n",
      "Validation Accuracy = 0.940\n",
      "\n",
      "EPOCH 41 ...\n",
      "Validation Accuracy = 0.926\n",
      "\n",
      "EPOCH 42 ...\n",
      "Validation Accuracy = 0.926\n",
      "\n",
      "EPOCH 43 ...\n",
      "Validation Accuracy = 0.923\n",
      "\n",
      "EPOCH 44 ...\n",
      "Validation Accuracy = 0.938\n",
      "\n",
      "EPOCH 45 ...\n",
      "Validation Accuracy = 0.927\n",
      "\n",
      "EPOCH 46 ...\n",
      "Validation Accuracy = 0.917\n",
      "\n",
      "EPOCH 47 ...\n",
      "Validation Accuracy = 0.931\n",
      "\n",
      "EPOCH 48 ...\n",
      "Validation Accuracy = 0.928\n",
      "\n",
      "EPOCH 49 ...\n",
      "Validation Accuracy = 0.937\n",
      "\n",
      "EPOCH 50 ...\n",
      "Validation Accuracy = 0.938\n",
      "\n",
      "EPOCH 51 ...\n",
      "Validation Accuracy = 0.905\n",
      "\n",
      "EPOCH 52 ...\n",
      "Validation Accuracy = 0.921\n",
      "\n",
      "EPOCH 53 ...\n",
      "Validation Accuracy = 0.941\n",
      "\n",
      "EPOCH 54 ...\n",
      "Validation Accuracy = 0.930\n",
      "\n",
      "EPOCH 55 ...\n",
      "Validation Accuracy = 0.933\n",
      "\n",
      "EPOCH 56 ...\n",
      "Validation Accuracy = 0.933\n",
      "\n",
      "EPOCH 57 ...\n",
      "Validation Accuracy = 0.940\n",
      "\n",
      "EPOCH 58 ...\n",
      "Validation Accuracy = 0.932\n",
      "\n",
      "EPOCH 59 ...\n",
      "Validation Accuracy = 0.930\n",
      "\n",
      "EPOCH 60 ...\n",
      "Validation Accuracy = 0.937\n",
      "\n",
      "Model saved\n"
     ]
    }
   ],
   "source": [
    "with tf.Session() as sess:\n",
    "    sess.run(tf.global_variables_initializer())\n",
    "    num_examples = len(X_train)\n",
    "    \n",
    "    print(\"Training...\")\n",
    "    print()\n",
    "    for i in range(EPOCHS):\n",
    "        X_train, y_train = shuffle(X_train, y_train)\n",
    "        for offset in range(0, num_examples, BATCH_SIZE):\n",
    "            end = offset + BATCH_SIZE\n",
    "            batch_x, batch_y = X_train[offset:end], y_train[offset:end]\n",
    "            sess.run(training_operation, feed_dict={x: batch_x, y: batch_y})\n",
    "            \n",
    "        validation_accuracy = evaluate(X_valid, y_valid)\n",
    "        print(\"EPOCH {} ...\".format(i+1))\n",
    "        print(\"Validation Accuracy = {:.3f}\".format(validation_accuracy))\n",
    "        print()\n",
    "        \n",
    "    saver.save(sess, './lenet')\n",
    "    print(\"Model saved\")"
   ]
  },
  {
   "cell_type": "markdown",
   "metadata": {},
   "source": [
    "---\n",
    "\n",
    "## Step 3: Test a Model on New Images\n",
    "\n",
    "To give yourself more insight into how your model is working, download at least five pictures of German traffic signs from the web and use your model to predict the traffic sign type.\n",
    "\n",
    "You may find `signnames.csv` useful as it contains mappings from the class id (integer) to the actual sign name."
   ]
  },
  {
   "cell_type": "code",
   "execution_count": 22,
   "metadata": {},
   "outputs": [
    {
     "name": "stdout",
     "output_type": "stream",
     "text": [
      "INFO:tensorflow:Restoring parameters from ./lenet\n",
      "Test Accuracy = 0.921\n"
     ]
    }
   ],
   "source": [
    "with tf.Session() as sess:\n",
    "    saver.restore(sess, tf.train.latest_checkpoint('.'))\n",
    "\n",
    "    test_accuracy = evaluate(X_test, y_test)\n",
    "    print(\"Test Accuracy = {:.3f}\".format(test_accuracy))"
   ]
  },
  {
   "cell_type": "markdown",
   "metadata": {},
   "source": [
    "### Load and Output the Images"
   ]
  },
  {
   "cell_type": "code",
<<<<<<< HEAD
   "execution_count": 23,
   "metadata": {},
=======
   "execution_count": null,
   "metadata": {
    "collapsed": true
   },
>>>>>>> 388e4973c26239810382add9aca7c713d25eac3f
   "outputs": [],
   "source": [
    "### Load the images and plot them here.\n",
    "import glob\n",
    "import skimage.io as io\n",
    "from skimage.transform import resize\n",
    "\n",
    "test_images_from_web = [img for img in glob.glob(\"data-from-web/*\")]\n",
    "\n",
    "\n",
    "### Feel free to use as many code cells as needed."
   ]
  },
  {
   "cell_type": "markdown",
   "metadata": {},
   "source": [
    "### Predict the Sign Type for Each Image"
   ]
  },
  {
   "cell_type": "code",
<<<<<<< HEAD
   "execution_count": 39,
   "metadata": {},
   "outputs": [
    {
     "name": "stdout",
     "output_type": "stream",
     "text": [
      "(8, 32, 32, 1)\n"
     ]
    },
    {
     "data": {
      "image/png": "iVBORw0KGgoAAAANSUhEUgAAAP4AAACPCAYAAADa6GY1AAAABHNCSVQICAgIfAhkiAAAAAlwSFlz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\nEMnGT5BgDuJ/AeXnqcM4rossAAAAAElFTkSuQmCC\n",
      "text/plain": [
       "<matplotlib.figure.Figure at 0x7ffae57929b0>"
      ]
     },
     "metadata": {},
     "output_type": "display_data"
    }
   ],
=======
   "execution_count": null,
   "metadata": {
    "collapsed": true
   },
   "outputs": [],
>>>>>>> 388e4973c26239810382add9aca7c713d25eac3f
   "source": [
    "### Run the predictions here and use the model to output the prediction for each image.\n",
    "### Make sure to pre-process the images with the same pre-processing pipeline used earlier.\n",
    "### Feel free to use as many code cells as needed.\n",
    "import glob\n",
    "import matplotlib.image as mpimg\n",
    "\n",
    "fig, axs = plt.subplots(2,4, figsize=(4, 2))\n",
    "fig.subplots_adjust(hspace = .2, wspace=.001)\n",
    "axs = axs.ravel()\n",
    "\n",
    "my_images = []\n",
    "\n",
    "for i, img in enumerate(test_images_from_web):\n",
    "    image = cv2.imread(img)\n",
    "    axs[i].axis('off')\n",
    "    axs[i].imshow(cv2.cvtColor(image, cv2.COLOR_BGR2RGB))\n",
    "    my_images.append(image)\n",
    "\n",
    "my_images = np.asarray(my_images)\n",
    "\n",
    "my_images_gry = np.sum(my_images/3, axis=3, keepdims=True)\n",
    "\n",
    "my_images_normalized = (my_images_gry - 128)/128 \n",
    "\n",
    "print(my_images_normalized.shape)"
   ]
  },
  {
   "cell_type": "markdown",
   "metadata": {},
   "source": [
    "### Analyze Performance"
   ]
  },
  {
   "cell_type": "code",
<<<<<<< HEAD
   "execution_count": 48,
   "metadata": {},
=======
   "execution_count": null,
   "metadata": {
    "collapsed": true
   },
>>>>>>> 388e4973c26239810382add9aca7c713d25eac3f
   "outputs": [],
   "source": [
    "labels = [12, 24, 34, 38, 1, 3, 11, 18]\n",
    "labels = encoder.transform(labels)"
   ]
  },
  {
   "cell_type": "code",
   "execution_count": 49,
   "metadata": {},
   "outputs": [
    {
     "name": "stdout",
     "output_type": "stream",
     "text": [
      "INFO:tensorflow:Restoring parameters from ./lenet\n",
      "Test Accuracy = 1.000\n"
     ]
    }
   ],
   "source": [
    "### Calculate the accuracy for these 5 new images. \n",
    "### For example, if the model predicted 1 out of 5 signs correctly, it's 20% accurate on these new images.\n",
    "with tf.Session() as sess:\n",
    "    saver.restore(sess, tf.train.latest_checkpoint('.'))\n",
    "\n",
    "    test_accuracy = evaluate(my_images_normalized, labels)\n",
    "    print(\"Test Accuracy = {:.3f}\".format(test_accuracy))"
   ]
  },
  {
   "cell_type": "markdown",
   "metadata": {},
   "source": [
    "### Output Top 5 Softmax Probabilities For Each Image Found on the Web"
   ]
  },
  {
   "cell_type": "markdown",
   "metadata": {},
   "source": [
    "For each of the new images, print out the model's softmax probabilities to show the **certainty** of the model's predictions (limit the output to the top 5 probabilities for each image). [`tf.nn.top_k`](https://www.tensorflow.org/versions/r0.12/api_docs/python/nn.html#top_k) could prove helpful here. \n",
    "\n",
    "The example below demonstrates how tf.nn.top_k can be used to find the top k predictions for each image.\n",
    "\n",
    "`tf.nn.top_k` will return the values and indices (class ids) of the top k predictions. So if k=3, for each sign, it'll return the 3 largest probabilities (out of a possible 43) and the correspoding class ids.\n",
    "\n",
    "Take this numpy array as an example. The values in the array represent predictions. The array contains softmax probabilities for five candidate images with six possible classes. `tf.nn.top_k` is used to choose the three classes with the highest probability:\n",
    "\n",
    "```\n",
    "# (5, 6) array\n",
    "a = np.array([[ 0.24879643,  0.07032244,  0.12641572,  0.34763842,  0.07893497,\n",
    "         0.12789202],\n",
    "       [ 0.28086119,  0.27569815,  0.08594638,  0.0178669 ,  0.18063401,\n",
    "         0.15899337],\n",
    "       [ 0.26076848,  0.23664738,  0.08020603,  0.07001922,  0.1134371 ,\n",
    "         0.23892179],\n",
    "       [ 0.11943333,  0.29198961,  0.02605103,  0.26234032,  0.1351348 ,\n",
    "         0.16505091],\n",
    "       [ 0.09561176,  0.34396535,  0.0643941 ,  0.16240774,  0.24206137,\n",
    "         0.09155967]])\n",
    "```\n",
    "\n",
    "Running it through `sess.run(tf.nn.top_k(tf.constant(a), k=3))` produces:\n",
    "\n",
    "```\n",
    "TopKV2(values=array([[ 0.34763842,  0.24879643,  0.12789202],\n",
    "       [ 0.28086119,  0.27569815,  0.18063401],\n",
    "       [ 0.26076848,  0.23892179,  0.23664738],\n",
    "       [ 0.29198961,  0.26234032,  0.16505091],\n",
    "       [ 0.34396535,  0.24206137,  0.16240774]]), indices=array([[3, 0, 5],\n",
    "       [0, 1, 4],\n",
    "       [0, 5, 1],\n",
    "       [1, 3, 5],\n",
    "       [1, 4, 3]], dtype=int32))\n",
    "```\n",
    "\n",
    "Looking just at the first row we get `[ 0.34763842,  0.24879643,  0.12789202]`, you can confirm these are the 3 largest probabilities in `a`. You'll also notice `[3, 0, 5]` are the corresponding indices."
   ]
  },
  {
   "cell_type": "code",
<<<<<<< HEAD
   "execution_count": 50,
   "metadata": {},
   "outputs": [
    {
     "name": "stdout",
     "output_type": "stream",
     "text": [
      "INFO:tensorflow:Restoring parameters from ./lenet\n"
     ]
    }
   ],
=======
   "execution_count": null,
   "metadata": {
    "collapsed": true
   },
   "outputs": [],
>>>>>>> 388e4973c26239810382add9aca7c713d25eac3f
   "source": [
    "### Print out the top five softmax probabilities for the predictions on the German traffic sign images found on the web. \n",
    "### Feel free to use as many code cells as needed.\n",
    "softmax_logits = tf.nn.softmax(logits)\n",
    "top_k = tf.nn.top_k(softmax_logits, k=3)\n",
    "\n",
    "with tf.Session() as sess:\n",
    "    sess.run(tf.global_variables_initializer())\n",
    "    saver = tf.train.import_meta_graph('./lenet.meta')\n",
    "    saver.restore(sess, \"./lenet\")\n",
    "    my_softmax_logits = sess.run(softmax_logits, feed_dict={x: my_images_normalized})\n",
    "    my_top_k = sess.run(top_k, feed_dict={x: my_images_normalized})"
   ]
  },
  {
   "cell_type": "code",
   "execution_count": 51,
   "metadata": {},
   "outputs": [
    {
     "name": "stdout",
     "output_type": "stream",
     "text": [
      "TopKV2(values=array([[  1.00000000e+00,   7.06080492e-23,   2.12079193e-29],\n",
      "       [  9.96401668e-01,   3.59558081e-03,   2.70966279e-06],\n",
      "       [  1.00000000e+00,   9.33653654e-13,   7.59376039e-18],\n",
      "       [  1.00000000e+00,   0.00000000e+00,   0.00000000e+00],\n",
      "       [  1.00000000e+00,   4.20873086e-10,   8.24014088e-13],\n",
      "       [  1.00000000e+00,   2.05218871e-14,   7.60531063e-15],\n",
      "       [  1.00000000e+00,   3.64615504e-10,   1.19007108e-19],\n",
      "       [  1.00000000e+00,   7.42192557e-11,   4.38634734e-22]], dtype=float32), indices=array([[12, 40, 26],\n",
      "       [24, 29, 25],\n",
      "       [34, 38, 30],\n",
      "       [38,  0,  1],\n",
      "       [ 1,  2,  6],\n",
      "       [ 3, 31,  5],\n",
      "       [11, 30, 23],\n",
      "       [18, 26, 11]], dtype=int32))\n"
     ]
    }
   ],
   "source": [
    "print(my_top_k)\n",
    "#[12, 25, 34, 38, 1, 3, 11, 18]"
   ]
  },
  {
   "cell_type": "markdown",
   "metadata": {},
   "source": [
    "### Project Writeup\n",
    "\n",
    "Once you have completed the code implementation, document your results in a project writeup using this [template](https://github.com/udacity/CarND-Traffic-Sign-Classifier-Project/blob/master/writeup_template.md) as a guide. The writeup can be in a markdown or pdf file. "
   ]
  },
  {
   "cell_type": "markdown",
   "metadata": {},
   "source": [
    "> **Note**: Once you have completed all of the code implementations and successfully answered each question above, you may finalize your work by exporting the iPython Notebook as an HTML document. You can do this by using the menu above and navigating to  \\n\",\n",
    "    \"**File -> Download as -> HTML (.html)**. Include the finished document along with this notebook as your submission."
   ]
  },
  {
   "cell_type": "markdown",
   "metadata": {},
   "source": [
    "---\n",
    "\n",
    "## Step 4 (Optional): Visualize the Neural Network's State with Test Images\n",
    "\n",
    " This Section is not required to complete but acts as an additional excersise for understaning the output of a neural network's weights. While neural networks can be a great learning device they are often referred to as a black box. We can understand what the weights of a neural network look like better by plotting their feature maps. After successfully training your neural network you can see what it's feature maps look like by plotting the output of the network's weight layers in response to a test stimuli image. From these plotted feature maps, it's possible to see what characteristics of an image the network finds interesting. For a sign, maybe the inner network feature maps react with high activation to the sign's boundary outline or to the contrast in the sign's painted symbol.\n",
    "\n",
    " Provided for you below is the function code that allows you to get the visualization output of any tensorflow weight layer you want. The inputs to the function should be a stimuli image, one used during training or a new one you provided, and then the tensorflow variable name that represents the layer's state during the training process, for instance if you wanted to see what the [LeNet lab's](https://classroom.udacity.com/nanodegrees/nd013/parts/fbf77062-5703-404e-b60c-95b78b2f3f9e/modules/6df7ae49-c61c-4bb2-a23e-6527e69209ec/lessons/601ae704-1035-4287-8b11-e2c2716217ad/concepts/d4aca031-508f-4e0b-b493-e7b706120f81) feature maps looked like for it's second convolutional layer you could enter conv2 as the tf_activation variable.\n",
    "\n",
    "For an example of what feature map outputs look like, check out NVIDIA's results in their paper [End-to-End Deep Learning for Self-Driving Cars](https://devblogs.nvidia.com/parallelforall/deep-learning-self-driving-cars/) in the section Visualization of internal CNN State. NVIDIA was able to show that their network's inner weights had high activations to road boundary lines by comparing feature maps from an image with a clear path to one without. Try experimenting with a similar test to show that your trained network's weights are looking for interesting features, whether it's looking at differences in feature maps from images with or without a sign, or even what feature maps look like in a trained network vs a completely untrained one on the same sign image.\n",
    "\n",
    "<figure>\n",
    " <img src=\"visualize_cnn.png\" width=\"380\" alt=\"Combined Image\" />\n",
    " <figcaption>\n",
    " <p></p> \n",
    " <p style=\"text-align: center;\"> Your output should look something like this (above)</p> \n",
    " </figcaption>\n",
    "</figure>\n",
    " <p></p> \n"
   ]
  },
  {
   "cell_type": "code",
   "execution_count": null,
   "metadata": {
    "collapsed": true
   },
   "outputs": [],
   "source": [
    "### Visualize your network's feature maps here.\n",
    "### Feel free to use as many code cells as needed.\n",
    "\n",
    "# image_input: the test image being fed into the network to produce the feature maps\n",
    "# tf_activation: should be a tf variable name used during your training procedure that represents the calculated state of a specific weight layer\n",
    "# activation_min/max: can be used to view the activation contrast in more detail, by default matplot sets min and max to the actual min and max values of the output\n",
    "# plt_num: used to plot out multiple different weight feature map sets on the same block, just extend the plt number for each new feature map entry\n",
    "\n",
    "def outputFeatureMap(image_input, tf_activation, activation_min=-1, activation_max=-1 ,plt_num=1):\n",
    "    # Here make sure to preprocess your image_input in a way your network expects\n",
    "    # with size, normalization, ect if needed\n",
    "    # image_input =\n",
    "    # Note: x should be the same name as your network's tensorflow data placeholder variable\n",
    "    # If you get an error tf_activation is not defined it may be having trouble accessing the variable from inside a function\n",
    "    activation = tf_activation.eval(session=sess,feed_dict={x : image_input})\n",
    "    featuremaps = activation.shape[3]\n",
    "    plt.figure(plt_num, figsize=(15,15))\n",
    "    for featuremap in range(featuremaps):\n",
    "        plt.subplot(6,8, featuremap+1) # sets the number of feature maps to show on each row and column\n",
    "        plt.title('FeatureMap ' + str(featuremap)) # displays the feature map number\n",
    "        if activation_min != -1 & activation_max != -1:\n",
    "            plt.imshow(activation[0,:,:, featuremap], interpolation=\"nearest\", vmin =activation_min, vmax=activation_max, cmap=\"gray\")\n",
    "        elif activation_max != -1:\n",
    "            plt.imshow(activation[0,:,:, featuremap], interpolation=\"nearest\", vmax=activation_max, cmap=\"gray\")\n",
    "        elif activation_min !=-1:\n",
    "            plt.imshow(activation[0,:,:, featuremap], interpolation=\"nearest\", vmin=activation_min, cmap=\"gray\")\n",
    "        else:\n",
    "            plt.imshow(activation[0,:,:, featuremap], interpolation=\"nearest\", cmap=\"gray\")"
   ]
  },
  {
   "cell_type": "code",
   "execution_count": null,
   "metadata": {},
   "outputs": [],
   "source": []
  }
 ],
 "metadata": {
  "anaconda-cloud": {},
  "kernelspec": {
   "display_name": "Python 3",
   "language": "python",
   "name": "python3"
  },
  "language_info": {
   "codemirror_mode": {
    "name": "ipython",
    "version": 3
   },
   "file_extension": ".py",
   "mimetype": "text/x-python",
   "name": "python",
   "nbconvert_exporter": "python",
   "pygments_lexer": "ipython3",
   "version": "3.5.2"
  },
  "widgets": {
   "state": {},
   "version": "1.1.2"
  }
 },
 "nbformat": 4,
 "nbformat_minor": 1
}
